{
 "cells": [
  {
   "cell_type": "markdown",
   "id": "778d2c68",
   "metadata": {},
   "source": [
    "# Análise Exploratória "
   ]
  },
  {
   "cell_type": "code",
   "execution_count": 2,
   "id": "c9b56315",
   "metadata": {},
   "outputs": [],
   "source": [
    "#Importando as bibliotecas \n",
    "import pandas as pd\n",
    "import matplotlib.pyplot as plt\n",
    "plt.style.use(\"seaborn\")"
   ]
  },
  {
   "cell_type": "code",
   "execution_count": 8,
   "id": "fbd84877",
   "metadata": {},
   "outputs": [],
   "source": [
    "#Leitura do arquivo\n",
    "#Criando nosso DataFrame\n",
    "df = pd.read_excel('datasets/AdventureWorks.xlsx', engine='openpyxl')"
   ]
  },
  {
   "cell_type": "code",
   "execution_count": 9,
   "id": "5c3206b0",
   "metadata": {},
   "outputs": [
    {
     "data": {
      "text/html": [
       "<div>\n",
       "<style scoped>\n",
       "    .dataframe tbody tr th:only-of-type {\n",
       "        vertical-align: middle;\n",
       "    }\n",
       "\n",
       "    .dataframe tbody tr th {\n",
       "        vertical-align: top;\n",
       "    }\n",
       "\n",
       "    .dataframe thead th {\n",
       "        text-align: right;\n",
       "    }\n",
       "</style>\n",
       "<table border=\"1\" class=\"dataframe\">\n",
       "  <thead>\n",
       "    <tr style=\"text-align: right;\">\n",
       "      <th></th>\n",
       "      <th>Data Venda</th>\n",
       "      <th>Data Envio</th>\n",
       "      <th>ID Loja</th>\n",
       "      <th>ID Produto</th>\n",
       "      <th>ID Cliente</th>\n",
       "      <th>No. Venda</th>\n",
       "      <th>Custo Unitário</th>\n",
       "      <th>Preço Unitário</th>\n",
       "      <th>Quantidade</th>\n",
       "      <th>Valor Desconto</th>\n",
       "      <th>Valor Venda</th>\n",
       "      <th>Produto</th>\n",
       "      <th>Fabricante</th>\n",
       "      <th>Marca</th>\n",
       "      <th>Classe</th>\n",
       "      <th>Cor</th>\n",
       "    </tr>\n",
       "  </thead>\n",
       "  <tbody>\n",
       "    <tr>\n",
       "      <th>0</th>\n",
       "      <td>2008-05-09</td>\n",
       "      <td>2008-05-29</td>\n",
       "      <td>199</td>\n",
       "      <td>384</td>\n",
       "      <td>18839</td>\n",
       "      <td>200805093CS607</td>\n",
       "      <td>348.58</td>\n",
       "      <td>758.0</td>\n",
       "      <td>6</td>\n",
       "      <td>0.0</td>\n",
       "      <td>4548.0</td>\n",
       "      <td>Adventure Works Laptop15.4W M1548 Red</td>\n",
       "      <td>Adventure Works</td>\n",
       "      <td>Adventure Works</td>\n",
       "      <td>Regular</td>\n",
       "      <td>Red</td>\n",
       "    </tr>\n",
       "    <tr>\n",
       "      <th>1</th>\n",
       "      <td>2008-05-12</td>\n",
       "      <td>2008-05-17</td>\n",
       "      <td>306</td>\n",
       "      <td>384</td>\n",
       "      <td>19051</td>\n",
       "      <td>200805123CS567</td>\n",
       "      <td>348.58</td>\n",
       "      <td>758.0</td>\n",
       "      <td>6</td>\n",
       "      <td>0.0</td>\n",
       "      <td>4548.0</td>\n",
       "      <td>Adventure Works Laptop15.4W M1548 Red</td>\n",
       "      <td>Adventure Works</td>\n",
       "      <td>Adventure Works</td>\n",
       "      <td>Regular</td>\n",
       "      <td>Red</td>\n",
       "    </tr>\n",
       "    <tr>\n",
       "      <th>2</th>\n",
       "      <td>2008-05-14</td>\n",
       "      <td>2008-05-20</td>\n",
       "      <td>306</td>\n",
       "      <td>384</td>\n",
       "      <td>19052</td>\n",
       "      <td>200805143CS576</td>\n",
       "      <td>348.58</td>\n",
       "      <td>758.0</td>\n",
       "      <td>6</td>\n",
       "      <td>0.0</td>\n",
       "      <td>4548.0</td>\n",
       "      <td>Adventure Works Laptop15.4W M1548 Red</td>\n",
       "      <td>Adventure Works</td>\n",
       "      <td>Adventure Works</td>\n",
       "      <td>Regular</td>\n",
       "      <td>Red</td>\n",
       "    </tr>\n",
       "    <tr>\n",
       "      <th>3</th>\n",
       "      <td>2008-05-21</td>\n",
       "      <td>2008-05-27</td>\n",
       "      <td>306</td>\n",
       "      <td>384</td>\n",
       "      <td>19052</td>\n",
       "      <td>200805213CS576</td>\n",
       "      <td>348.58</td>\n",
       "      <td>758.0</td>\n",
       "      <td>6</td>\n",
       "      <td>0.0</td>\n",
       "      <td>4548.0</td>\n",
       "      <td>Adventure Works Laptop15.4W M1548 Red</td>\n",
       "      <td>Adventure Works</td>\n",
       "      <td>Adventure Works</td>\n",
       "      <td>Regular</td>\n",
       "      <td>Red</td>\n",
       "    </tr>\n",
       "    <tr>\n",
       "      <th>4</th>\n",
       "      <td>2008-06-20</td>\n",
       "      <td>2008-06-27</td>\n",
       "      <td>306</td>\n",
       "      <td>384</td>\n",
       "      <td>19053</td>\n",
       "      <td>200806203CS586</td>\n",
       "      <td>348.58</td>\n",
       "      <td>758.0</td>\n",
       "      <td>6</td>\n",
       "      <td>0.0</td>\n",
       "      <td>4548.0</td>\n",
       "      <td>Adventure Works Laptop15.4W M1548 Red</td>\n",
       "      <td>Adventure Works</td>\n",
       "      <td>Adventure Works</td>\n",
       "      <td>Regular</td>\n",
       "      <td>Red</td>\n",
       "    </tr>\n",
       "  </tbody>\n",
       "</table>\n",
       "</div>"
      ],
      "text/plain": [
       "  Data Venda Data Envio  ID Loja  ID Produto  ID Cliente       No. Venda  \\\n",
       "0 2008-05-09 2008-05-29      199         384       18839  200805093CS607   \n",
       "1 2008-05-12 2008-05-17      306         384       19051  200805123CS567   \n",
       "2 2008-05-14 2008-05-20      306         384       19052  200805143CS576   \n",
       "3 2008-05-21 2008-05-27      306         384       19052  200805213CS576   \n",
       "4 2008-06-20 2008-06-27      306         384       19053  200806203CS586   \n",
       "\n",
       "   Custo Unitário  Preço Unitário  Quantidade  Valor Desconto  Valor Venda  \\\n",
       "0          348.58           758.0           6             0.0       4548.0   \n",
       "1          348.58           758.0           6             0.0       4548.0   \n",
       "2          348.58           758.0           6             0.0       4548.0   \n",
       "3          348.58           758.0           6             0.0       4548.0   \n",
       "4          348.58           758.0           6             0.0       4548.0   \n",
       "\n",
       "                                 Produto       Fabricante            Marca  \\\n",
       "0  Adventure Works Laptop15.4W M1548 Red  Adventure Works  Adventure Works   \n",
       "1  Adventure Works Laptop15.4W M1548 Red  Adventure Works  Adventure Works   \n",
       "2  Adventure Works Laptop15.4W M1548 Red  Adventure Works  Adventure Works   \n",
       "3  Adventure Works Laptop15.4W M1548 Red  Adventure Works  Adventure Works   \n",
       "4  Adventure Works Laptop15.4W M1548 Red  Adventure Works  Adventure Works   \n",
       "\n",
       "    Classe  Cor  \n",
       "0  Regular  Red  \n",
       "1  Regular  Red  \n",
       "2  Regular  Red  \n",
       "3  Regular  Red  \n",
       "4  Regular  Red  "
      ]
     },
     "execution_count": 9,
     "metadata": {},
     "output_type": "execute_result"
    }
   ],
   "source": [
    "#Visualizando as 5 primeiras linhas\n",
    "df.head()"
   ]
  },
  {
   "cell_type": "code",
   "execution_count": 12,
   "id": "e98328f6",
   "metadata": {},
   "outputs": [
    {
     "data": {
      "text/plain": [
       "(904, 16)"
      ]
     },
     "execution_count": 12,
     "metadata": {},
     "output_type": "execute_result"
    }
   ],
   "source": [
    "#Quantidade de linhas e colunas\n",
    "df.shape"
   ]
  },
  {
   "cell_type": "code",
   "execution_count": 14,
   "id": "e694943e",
   "metadata": {},
   "outputs": [
    {
     "data": {
      "text/plain": [
       "Data Venda        datetime64[ns]\n",
       "Data Envio        datetime64[ns]\n",
       "ID Loja                    int64\n",
       "ID Produto                 int64\n",
       "ID Cliente                 int64\n",
       "No. Venda                 object\n",
       "Custo Unitário           float64\n",
       "Preço Unitário           float64\n",
       "Quantidade                 int64\n",
       "Valor Desconto           float64\n",
       "Valor Venda              float64\n",
       "Produto                   object\n",
       "Fabricante                object\n",
       "Marca                     object\n",
       "Classe                    object\n",
       "Cor                       object\n",
       "dtype: object"
      ]
     },
     "execution_count": 14,
     "metadata": {},
     "output_type": "execute_result"
    }
   ],
   "source": [
    "#Verificando os tipos de dados\n",
    "df.dtypes"
   ]
  },
  {
   "cell_type": "code",
   "execution_count": 17,
   "id": "cb63c99a",
   "metadata": {},
   "outputs": [
    {
     "data": {
      "text/plain": [
       "5984606.1426"
      ]
     },
     "execution_count": 17,
     "metadata": {},
     "output_type": "execute_result"
    }
   ],
   "source": [
    "#Qual a Receita Total?\n",
    "df[\"Valor Venda\"].sum()"
   ]
  },
  {
   "cell_type": "code",
   "execution_count": 22,
   "id": "99063d10",
   "metadata": {},
   "outputs": [],
   "source": [
    "#Qual o custo total?\n",
    "#Criando a coluna custo\n",
    "df[\"custo\"] = df[\"Custo Unitário\"].mul(df[\"Quantidade\"])"
   ]
  },
  {
   "cell_type": "code",
   "execution_count": 23,
   "id": "508dcfae",
   "metadata": {},
   "outputs": [
    {
     "data": {
      "text/html": [
       "<div>\n",
       "<style scoped>\n",
       "    .dataframe tbody tr th:only-of-type {\n",
       "        vertical-align: middle;\n",
       "    }\n",
       "\n",
       "    .dataframe tbody tr th {\n",
       "        vertical-align: top;\n",
       "    }\n",
       "\n",
       "    .dataframe thead th {\n",
       "        text-align: right;\n",
       "    }\n",
       "</style>\n",
       "<table border=\"1\" class=\"dataframe\">\n",
       "  <thead>\n",
       "    <tr style=\"text-align: right;\">\n",
       "      <th></th>\n",
       "      <th>Data Venda</th>\n",
       "      <th>Data Envio</th>\n",
       "      <th>ID Loja</th>\n",
       "      <th>ID Produto</th>\n",
       "      <th>ID Cliente</th>\n",
       "      <th>No. Venda</th>\n",
       "      <th>Custo Unitário</th>\n",
       "      <th>Preço Unitário</th>\n",
       "      <th>Quantidade</th>\n",
       "      <th>Valor Desconto</th>\n",
       "      <th>Valor Venda</th>\n",
       "      <th>Produto</th>\n",
       "      <th>Fabricante</th>\n",
       "      <th>Marca</th>\n",
       "      <th>Classe</th>\n",
       "      <th>Cor</th>\n",
       "      <th>custo</th>\n",
       "    </tr>\n",
       "  </thead>\n",
       "  <tbody>\n",
       "    <tr>\n",
       "      <th>0</th>\n",
       "      <td>2008-05-09</td>\n",
       "      <td>2008-05-29</td>\n",
       "      <td>199</td>\n",
       "      <td>384</td>\n",
       "      <td>18839</td>\n",
       "      <td>200805093CS607</td>\n",
       "      <td>348.58</td>\n",
       "      <td>758.0</td>\n",
       "      <td>6</td>\n",
       "      <td>0.0</td>\n",
       "      <td>4548.0</td>\n",
       "      <td>Adventure Works Laptop15.4W M1548 Red</td>\n",
       "      <td>Adventure Works</td>\n",
       "      <td>Adventure Works</td>\n",
       "      <td>Regular</td>\n",
       "      <td>Red</td>\n",
       "      <td>2091.48</td>\n",
       "    </tr>\n",
       "    <tr>\n",
       "      <th>1</th>\n",
       "      <td>2008-05-12</td>\n",
       "      <td>2008-05-17</td>\n",
       "      <td>306</td>\n",
       "      <td>384</td>\n",
       "      <td>19051</td>\n",
       "      <td>200805123CS567</td>\n",
       "      <td>348.58</td>\n",
       "      <td>758.0</td>\n",
       "      <td>6</td>\n",
       "      <td>0.0</td>\n",
       "      <td>4548.0</td>\n",
       "      <td>Adventure Works Laptop15.4W M1548 Red</td>\n",
       "      <td>Adventure Works</td>\n",
       "      <td>Adventure Works</td>\n",
       "      <td>Regular</td>\n",
       "      <td>Red</td>\n",
       "      <td>2091.48</td>\n",
       "    </tr>\n",
       "    <tr>\n",
       "      <th>2</th>\n",
       "      <td>2008-05-14</td>\n",
       "      <td>2008-05-20</td>\n",
       "      <td>306</td>\n",
       "      <td>384</td>\n",
       "      <td>19052</td>\n",
       "      <td>200805143CS576</td>\n",
       "      <td>348.58</td>\n",
       "      <td>758.0</td>\n",
       "      <td>6</td>\n",
       "      <td>0.0</td>\n",
       "      <td>4548.0</td>\n",
       "      <td>Adventure Works Laptop15.4W M1548 Red</td>\n",
       "      <td>Adventure Works</td>\n",
       "      <td>Adventure Works</td>\n",
       "      <td>Regular</td>\n",
       "      <td>Red</td>\n",
       "      <td>2091.48</td>\n",
       "    </tr>\n",
       "    <tr>\n",
       "      <th>3</th>\n",
       "      <td>2008-05-21</td>\n",
       "      <td>2008-05-27</td>\n",
       "      <td>306</td>\n",
       "      <td>384</td>\n",
       "      <td>19052</td>\n",
       "      <td>200805213CS576</td>\n",
       "      <td>348.58</td>\n",
       "      <td>758.0</td>\n",
       "      <td>6</td>\n",
       "      <td>0.0</td>\n",
       "      <td>4548.0</td>\n",
       "      <td>Adventure Works Laptop15.4W M1548 Red</td>\n",
       "      <td>Adventure Works</td>\n",
       "      <td>Adventure Works</td>\n",
       "      <td>Regular</td>\n",
       "      <td>Red</td>\n",
       "      <td>2091.48</td>\n",
       "    </tr>\n",
       "    <tr>\n",
       "      <th>4</th>\n",
       "      <td>2008-06-20</td>\n",
       "      <td>2008-06-27</td>\n",
       "      <td>306</td>\n",
       "      <td>384</td>\n",
       "      <td>19053</td>\n",
       "      <td>200806203CS586</td>\n",
       "      <td>348.58</td>\n",
       "      <td>758.0</td>\n",
       "      <td>6</td>\n",
       "      <td>0.0</td>\n",
       "      <td>4548.0</td>\n",
       "      <td>Adventure Works Laptop15.4W M1548 Red</td>\n",
       "      <td>Adventure Works</td>\n",
       "      <td>Adventure Works</td>\n",
       "      <td>Regular</td>\n",
       "      <td>Red</td>\n",
       "      <td>2091.48</td>\n",
       "    </tr>\n",
       "  </tbody>\n",
       "</table>\n",
       "</div>"
      ],
      "text/plain": [
       "  Data Venda Data Envio  ID Loja  ID Produto  ID Cliente       No. Venda  \\\n",
       "0 2008-05-09 2008-05-29      199         384       18839  200805093CS607   \n",
       "1 2008-05-12 2008-05-17      306         384       19051  200805123CS567   \n",
       "2 2008-05-14 2008-05-20      306         384       19052  200805143CS576   \n",
       "3 2008-05-21 2008-05-27      306         384       19052  200805213CS576   \n",
       "4 2008-06-20 2008-06-27      306         384       19053  200806203CS586   \n",
       "\n",
       "   Custo Unitário  Preço Unitário  Quantidade  Valor Desconto  Valor Venda  \\\n",
       "0          348.58           758.0           6             0.0       4548.0   \n",
       "1          348.58           758.0           6             0.0       4548.0   \n",
       "2          348.58           758.0           6             0.0       4548.0   \n",
       "3          348.58           758.0           6             0.0       4548.0   \n",
       "4          348.58           758.0           6             0.0       4548.0   \n",
       "\n",
       "                                 Produto       Fabricante            Marca  \\\n",
       "0  Adventure Works Laptop15.4W M1548 Red  Adventure Works  Adventure Works   \n",
       "1  Adventure Works Laptop15.4W M1548 Red  Adventure Works  Adventure Works   \n",
       "2  Adventure Works Laptop15.4W M1548 Red  Adventure Works  Adventure Works   \n",
       "3  Adventure Works Laptop15.4W M1548 Red  Adventure Works  Adventure Works   \n",
       "4  Adventure Works Laptop15.4W M1548 Red  Adventure Works  Adventure Works   \n",
       "\n",
       "    Classe  Cor    custo  \n",
       "0  Regular  Red  2091.48  \n",
       "1  Regular  Red  2091.48  \n",
       "2  Regular  Red  2091.48  \n",
       "3  Regular  Red  2091.48  \n",
       "4  Regular  Red  2091.48  "
      ]
     },
     "execution_count": 23,
     "metadata": {},
     "output_type": "execute_result"
    }
   ],
   "source": [
    "df.head()"
   ]
  },
  {
   "cell_type": "code",
   "execution_count": 25,
   "id": "1c51be1a",
   "metadata": {},
   "outputs": [
    {
     "data": {
      "text/plain": [
       "2486783.05"
      ]
     },
     "execution_count": 25,
     "metadata": {},
     "output_type": "execute_result"
    }
   ],
   "source": [
    "#Qual o custo total?\n",
    "round(df[\"custo\"].sum(), 2)"
   ]
  },
  {
   "cell_type": "code",
   "execution_count": 27,
   "id": "5c748426",
   "metadata": {},
   "outputs": [],
   "source": [
    "#Agora que temos a receita e custo e o total, podemos achar o Lucro Total\n",
    "#Vamos criar uma coluna de Lucro que será Receita - Custo\n",
    "df[\"Lucro\"] = df[\"Valor Venda\"] - df[\"custo\"]"
   ]
  },
  {
   "cell_type": "code",
   "execution_count": 29,
   "id": "6affcc0c",
   "metadata": {},
   "outputs": [
    {
     "data": {
      "text/html": [
       "<div>\n",
       "<style scoped>\n",
       "    .dataframe tbody tr th:only-of-type {\n",
       "        vertical-align: middle;\n",
       "    }\n",
       "\n",
       "    .dataframe tbody tr th {\n",
       "        vertical-align: top;\n",
       "    }\n",
       "\n",
       "    .dataframe thead th {\n",
       "        text-align: right;\n",
       "    }\n",
       "</style>\n",
       "<table border=\"1\" class=\"dataframe\">\n",
       "  <thead>\n",
       "    <tr style=\"text-align: right;\">\n",
       "      <th></th>\n",
       "      <th>Data Venda</th>\n",
       "      <th>Data Envio</th>\n",
       "      <th>ID Loja</th>\n",
       "      <th>ID Produto</th>\n",
       "      <th>ID Cliente</th>\n",
       "      <th>No. Venda</th>\n",
       "      <th>Custo Unitário</th>\n",
       "      <th>Preço Unitário</th>\n",
       "      <th>Quantidade</th>\n",
       "      <th>Valor Desconto</th>\n",
       "      <th>Valor Venda</th>\n",
       "      <th>Produto</th>\n",
       "      <th>Fabricante</th>\n",
       "      <th>Marca</th>\n",
       "      <th>Classe</th>\n",
       "      <th>Cor</th>\n",
       "      <th>custo</th>\n",
       "      <th>Lucro</th>\n",
       "    </tr>\n",
       "  </thead>\n",
       "  <tbody>\n",
       "    <tr>\n",
       "      <th>0</th>\n",
       "      <td>2008-05-09</td>\n",
       "      <td>2008-05-29</td>\n",
       "      <td>199</td>\n",
       "      <td>384</td>\n",
       "      <td>18839</td>\n",
       "      <td>200805093CS607</td>\n",
       "      <td>348.58</td>\n",
       "      <td>758.0</td>\n",
       "      <td>6</td>\n",
       "      <td>0.0</td>\n",
       "      <td>4548.0</td>\n",
       "      <td>Adventure Works Laptop15.4W M1548 Red</td>\n",
       "      <td>Adventure Works</td>\n",
       "      <td>Adventure Works</td>\n",
       "      <td>Regular</td>\n",
       "      <td>Red</td>\n",
       "      <td>2091.48</td>\n",
       "      <td>2456.52</td>\n",
       "    </tr>\n",
       "  </tbody>\n",
       "</table>\n",
       "</div>"
      ],
      "text/plain": [
       "  Data Venda Data Envio  ID Loja  ID Produto  ID Cliente       No. Venda  \\\n",
       "0 2008-05-09 2008-05-29      199         384       18839  200805093CS607   \n",
       "\n",
       "   Custo Unitário  Preço Unitário  Quantidade  Valor Desconto  Valor Venda  \\\n",
       "0          348.58           758.0           6             0.0       4548.0   \n",
       "\n",
       "                                 Produto       Fabricante            Marca  \\\n",
       "0  Adventure Works Laptop15.4W M1548 Red  Adventure Works  Adventure Works   \n",
       "\n",
       "    Classe  Cor    custo    Lucro  \n",
       "0  Regular  Red  2091.48  2456.52  "
      ]
     },
     "execution_count": 29,
     "metadata": {},
     "output_type": "execute_result"
    }
   ],
   "source": [
    "df.head(1)"
   ]
  },
  {
   "cell_type": "code",
   "execution_count": 31,
   "id": "c7e80d09",
   "metadata": {},
   "outputs": [
    {
     "data": {
      "text/plain": [
       "3497823.09"
      ]
     },
     "execution_count": 31,
     "metadata": {},
     "output_type": "execute_result"
    }
   ],
   "source": [
    "#Total lucro\n",
    "round(df[\"Lucro\"].sum(), 2)"
   ]
  },
  {
   "cell_type": "code",
   "execution_count": 33,
   "id": "8e018ce5",
   "metadata": {},
   "outputs": [],
   "source": [
    "#Criando uma coluna com o total de dias para enviar o produto\n",
    "df[\"Tempo_envio\"] = df[\"Data Envio\"] - df[\"Data Venda\"]"
   ]
  },
  {
   "cell_type": "code",
   "execution_count": 35,
   "id": "2ecc9b8b",
   "metadata": {},
   "outputs": [
    {
     "data": {
      "text/html": [
       "<div>\n",
       "<style scoped>\n",
       "    .dataframe tbody tr th:only-of-type {\n",
       "        vertical-align: middle;\n",
       "    }\n",
       "\n",
       "    .dataframe tbody tr th {\n",
       "        vertical-align: top;\n",
       "    }\n",
       "\n",
       "    .dataframe thead th {\n",
       "        text-align: right;\n",
       "    }\n",
       "</style>\n",
       "<table border=\"1\" class=\"dataframe\">\n",
       "  <thead>\n",
       "    <tr style=\"text-align: right;\">\n",
       "      <th></th>\n",
       "      <th>Data Venda</th>\n",
       "      <th>Data Envio</th>\n",
       "      <th>ID Loja</th>\n",
       "      <th>ID Produto</th>\n",
       "      <th>ID Cliente</th>\n",
       "      <th>No. Venda</th>\n",
       "      <th>Custo Unitário</th>\n",
       "      <th>Preço Unitário</th>\n",
       "      <th>Quantidade</th>\n",
       "      <th>Valor Desconto</th>\n",
       "      <th>Valor Venda</th>\n",
       "      <th>Produto</th>\n",
       "      <th>Fabricante</th>\n",
       "      <th>Marca</th>\n",
       "      <th>Classe</th>\n",
       "      <th>Cor</th>\n",
       "      <th>custo</th>\n",
       "      <th>Lucro</th>\n",
       "      <th>Tempo_envio</th>\n",
       "    </tr>\n",
       "  </thead>\n",
       "  <tbody>\n",
       "    <tr>\n",
       "      <th>0</th>\n",
       "      <td>2008-05-09</td>\n",
       "      <td>2008-05-29</td>\n",
       "      <td>199</td>\n",
       "      <td>384</td>\n",
       "      <td>18839</td>\n",
       "      <td>200805093CS607</td>\n",
       "      <td>348.58</td>\n",
       "      <td>758.0</td>\n",
       "      <td>6</td>\n",
       "      <td>0.0</td>\n",
       "      <td>4548.0</td>\n",
       "      <td>Adventure Works Laptop15.4W M1548 Red</td>\n",
       "      <td>Adventure Works</td>\n",
       "      <td>Adventure Works</td>\n",
       "      <td>Regular</td>\n",
       "      <td>Red</td>\n",
       "      <td>2091.48</td>\n",
       "      <td>2456.52</td>\n",
       "      <td>20 days</td>\n",
       "    </tr>\n",
       "  </tbody>\n",
       "</table>\n",
       "</div>"
      ],
      "text/plain": [
       "  Data Venda Data Envio  ID Loja  ID Produto  ID Cliente       No. Venda  \\\n",
       "0 2008-05-09 2008-05-29      199         384       18839  200805093CS607   \n",
       "\n",
       "   Custo Unitário  Preço Unitário  Quantidade  Valor Desconto  Valor Venda  \\\n",
       "0          348.58           758.0           6             0.0       4548.0   \n",
       "\n",
       "                                 Produto       Fabricante            Marca  \\\n",
       "0  Adventure Works Laptop15.4W M1548 Red  Adventure Works  Adventure Works   \n",
       "\n",
       "    Classe  Cor    custo    Lucro Tempo_envio  \n",
       "0  Regular  Red  2091.48  2456.52     20 days  "
      ]
     },
     "execution_count": 35,
     "metadata": {},
     "output_type": "execute_result"
    }
   ],
   "source": [
    "df.head(1)"
   ]
  },
  {
   "cell_type": "markdown",
   "id": "646b5e7b",
   "metadata": {},
   "source": [
    "#### Agora, queremos saber a média do tempo de envio por cada Marca, e para isso precisamos transformar a coluna Tempo_envio em numérica"
   ]
  },
  {
   "cell_type": "code",
   "execution_count": 37,
   "id": "afc45004",
   "metadata": {},
   "outputs": [],
   "source": [
    "#Extraindo apenas os dias \n",
    "df[\"Tempo_envio\"] = (df[\"Data Envio\"] - df[\"Data Venda\"]).dt.days "
   ]
  },
  {
   "cell_type": "code",
   "execution_count": 39,
   "id": "47843f3e",
   "metadata": {},
   "outputs": [
    {
     "data": {
      "text/html": [
       "<div>\n",
       "<style scoped>\n",
       "    .dataframe tbody tr th:only-of-type {\n",
       "        vertical-align: middle;\n",
       "    }\n",
       "\n",
       "    .dataframe tbody tr th {\n",
       "        vertical-align: top;\n",
       "    }\n",
       "\n",
       "    .dataframe thead th {\n",
       "        text-align: right;\n",
       "    }\n",
       "</style>\n",
       "<table border=\"1\" class=\"dataframe\">\n",
       "  <thead>\n",
       "    <tr style=\"text-align: right;\">\n",
       "      <th></th>\n",
       "      <th>Data Venda</th>\n",
       "      <th>Data Envio</th>\n",
       "      <th>ID Loja</th>\n",
       "      <th>ID Produto</th>\n",
       "      <th>ID Cliente</th>\n",
       "      <th>No. Venda</th>\n",
       "      <th>Custo Unitário</th>\n",
       "      <th>Preço Unitário</th>\n",
       "      <th>Quantidade</th>\n",
       "      <th>Valor Desconto</th>\n",
       "      <th>Valor Venda</th>\n",
       "      <th>Produto</th>\n",
       "      <th>Fabricante</th>\n",
       "      <th>Marca</th>\n",
       "      <th>Classe</th>\n",
       "      <th>Cor</th>\n",
       "      <th>custo</th>\n",
       "      <th>Lucro</th>\n",
       "      <th>Tempo_envio</th>\n",
       "    </tr>\n",
       "  </thead>\n",
       "  <tbody>\n",
       "    <tr>\n",
       "      <th>0</th>\n",
       "      <td>2008-05-09</td>\n",
       "      <td>2008-05-29</td>\n",
       "      <td>199</td>\n",
       "      <td>384</td>\n",
       "      <td>18839</td>\n",
       "      <td>200805093CS607</td>\n",
       "      <td>348.58</td>\n",
       "      <td>758.0</td>\n",
       "      <td>6</td>\n",
       "      <td>0.0</td>\n",
       "      <td>4548.0</td>\n",
       "      <td>Adventure Works Laptop15.4W M1548 Red</td>\n",
       "      <td>Adventure Works</td>\n",
       "      <td>Adventure Works</td>\n",
       "      <td>Regular</td>\n",
       "      <td>Red</td>\n",
       "      <td>2091.48</td>\n",
       "      <td>2456.52</td>\n",
       "      <td>20</td>\n",
       "    </tr>\n",
       "    <tr>\n",
       "      <th>1</th>\n",
       "      <td>2008-05-12</td>\n",
       "      <td>2008-05-17</td>\n",
       "      <td>306</td>\n",
       "      <td>384</td>\n",
       "      <td>19051</td>\n",
       "      <td>200805123CS567</td>\n",
       "      <td>348.58</td>\n",
       "      <td>758.0</td>\n",
       "      <td>6</td>\n",
       "      <td>0.0</td>\n",
       "      <td>4548.0</td>\n",
       "      <td>Adventure Works Laptop15.4W M1548 Red</td>\n",
       "      <td>Adventure Works</td>\n",
       "      <td>Adventure Works</td>\n",
       "      <td>Regular</td>\n",
       "      <td>Red</td>\n",
       "      <td>2091.48</td>\n",
       "      <td>2456.52</td>\n",
       "      <td>5</td>\n",
       "    </tr>\n",
       "    <tr>\n",
       "      <th>2</th>\n",
       "      <td>2008-05-14</td>\n",
       "      <td>2008-05-20</td>\n",
       "      <td>306</td>\n",
       "      <td>384</td>\n",
       "      <td>19052</td>\n",
       "      <td>200805143CS576</td>\n",
       "      <td>348.58</td>\n",
       "      <td>758.0</td>\n",
       "      <td>6</td>\n",
       "      <td>0.0</td>\n",
       "      <td>4548.0</td>\n",
       "      <td>Adventure Works Laptop15.4W M1548 Red</td>\n",
       "      <td>Adventure Works</td>\n",
       "      <td>Adventure Works</td>\n",
       "      <td>Regular</td>\n",
       "      <td>Red</td>\n",
       "      <td>2091.48</td>\n",
       "      <td>2456.52</td>\n",
       "      <td>6</td>\n",
       "    </tr>\n",
       "    <tr>\n",
       "      <th>3</th>\n",
       "      <td>2008-05-21</td>\n",
       "      <td>2008-05-27</td>\n",
       "      <td>306</td>\n",
       "      <td>384</td>\n",
       "      <td>19052</td>\n",
       "      <td>200805213CS576</td>\n",
       "      <td>348.58</td>\n",
       "      <td>758.0</td>\n",
       "      <td>6</td>\n",
       "      <td>0.0</td>\n",
       "      <td>4548.0</td>\n",
       "      <td>Adventure Works Laptop15.4W M1548 Red</td>\n",
       "      <td>Adventure Works</td>\n",
       "      <td>Adventure Works</td>\n",
       "      <td>Regular</td>\n",
       "      <td>Red</td>\n",
       "      <td>2091.48</td>\n",
       "      <td>2456.52</td>\n",
       "      <td>6</td>\n",
       "    </tr>\n",
       "    <tr>\n",
       "      <th>4</th>\n",
       "      <td>2008-06-20</td>\n",
       "      <td>2008-06-27</td>\n",
       "      <td>306</td>\n",
       "      <td>384</td>\n",
       "      <td>19053</td>\n",
       "      <td>200806203CS586</td>\n",
       "      <td>348.58</td>\n",
       "      <td>758.0</td>\n",
       "      <td>6</td>\n",
       "      <td>0.0</td>\n",
       "      <td>4548.0</td>\n",
       "      <td>Adventure Works Laptop15.4W M1548 Red</td>\n",
       "      <td>Adventure Works</td>\n",
       "      <td>Adventure Works</td>\n",
       "      <td>Regular</td>\n",
       "      <td>Red</td>\n",
       "      <td>2091.48</td>\n",
       "      <td>2456.52</td>\n",
       "      <td>7</td>\n",
       "    </tr>\n",
       "  </tbody>\n",
       "</table>\n",
       "</div>"
      ],
      "text/plain": [
       "  Data Venda Data Envio  ID Loja  ID Produto  ID Cliente       No. Venda  \\\n",
       "0 2008-05-09 2008-05-29      199         384       18839  200805093CS607   \n",
       "1 2008-05-12 2008-05-17      306         384       19051  200805123CS567   \n",
       "2 2008-05-14 2008-05-20      306         384       19052  200805143CS576   \n",
       "3 2008-05-21 2008-05-27      306         384       19052  200805213CS576   \n",
       "4 2008-06-20 2008-06-27      306         384       19053  200806203CS586   \n",
       "\n",
       "   Custo Unitário  Preço Unitário  Quantidade  Valor Desconto  Valor Venda  \\\n",
       "0          348.58           758.0           6             0.0       4548.0   \n",
       "1          348.58           758.0           6             0.0       4548.0   \n",
       "2          348.58           758.0           6             0.0       4548.0   \n",
       "3          348.58           758.0           6             0.0       4548.0   \n",
       "4          348.58           758.0           6             0.0       4548.0   \n",
       "\n",
       "                                 Produto       Fabricante            Marca  \\\n",
       "0  Adventure Works Laptop15.4W M1548 Red  Adventure Works  Adventure Works   \n",
       "1  Adventure Works Laptop15.4W M1548 Red  Adventure Works  Adventure Works   \n",
       "2  Adventure Works Laptop15.4W M1548 Red  Adventure Works  Adventure Works   \n",
       "3  Adventure Works Laptop15.4W M1548 Red  Adventure Works  Adventure Works   \n",
       "4  Adventure Works Laptop15.4W M1548 Red  Adventure Works  Adventure Works   \n",
       "\n",
       "    Classe  Cor    custo    Lucro  Tempo_envio  \n",
       "0  Regular  Red  2091.48  2456.52           20  \n",
       "1  Regular  Red  2091.48  2456.52            5  \n",
       "2  Regular  Red  2091.48  2456.52            6  \n",
       "3  Regular  Red  2091.48  2456.52            6  \n",
       "4  Regular  Red  2091.48  2456.52            7  "
      ]
     },
     "execution_count": 39,
     "metadata": {},
     "output_type": "execute_result"
    }
   ],
   "source": [
    "df.head()"
   ]
  },
  {
   "cell_type": "code",
   "execution_count": 41,
   "id": "aee5721b",
   "metadata": {},
   "outputs": [
    {
     "data": {
      "text/plain": [
       "dtype('int64')"
      ]
     },
     "execution_count": 41,
     "metadata": {},
     "output_type": "execute_result"
    }
   ],
   "source": [
    "#Verificando o tipo da coluna Tempo_envio\n",
    "df[\"Tempo_envio\"].dtype"
   ]
  },
  {
   "cell_type": "code",
   "execution_count": 43,
   "id": "1202b9fd",
   "metadata": {},
   "outputs": [
    {
     "data": {
      "text/plain": [
       "Marca\n",
       "Adventure Works    8.663866\n",
       "Contoso            8.470930\n",
       "Fabrikam           8.510121\n",
       "Name: Tempo_envio, dtype: float64"
      ]
     },
     "execution_count": 43,
     "metadata": {},
     "output_type": "execute_result"
    }
   ],
   "source": [
    "#Média do tempo de envio por Marca\n",
    "df.groupby(\"Marca\")[\"Tempo_envio\"].mean()"
   ]
  },
  {
   "cell_type": "markdown",
   "id": "f1b0c48d",
   "metadata": {},
   "source": [
    "### Missing Values"
   ]
  },
  {
   "cell_type": "code",
   "execution_count": 65,
   "id": "87bd69c7",
   "metadata": {},
   "outputs": [
    {
     "data": {
      "text/plain": [
       "Data Venda        0\n",
       "Data Envio        0\n",
       "ID Loja           0\n",
       "ID Produto        0\n",
       "ID Cliente        0\n",
       "No. Venda         0\n",
       "Custo Unitário    0\n",
       "Preço Unitário    0\n",
       "Quantidade        0\n",
       "Valor Desconto    0\n",
       "Valor Venda       0\n",
       "Produto           0\n",
       "Fabricante        0\n",
       "Marca             0\n",
       "Classe            0\n",
       "Cor               0\n",
       "custo             0\n",
       "Lucro             0\n",
       "Tempo_envio       0\n",
       "dtype: int64"
      ]
     },
     "execution_count": 65,
     "metadata": {},
     "output_type": "execute_result"
    }
   ],
   "source": [
    "#Verificando se temos valores faltantes\n",
    "df.isnull().sum()"
   ]
  },
  {
   "cell_type": "markdown",
   "id": "ed09d0df",
   "metadata": {},
   "source": [
    "### E, se a gente quiser quiser saber o Lucro por Ano e por Marca? "
   ]
  },
  {
   "cell_type": "code",
   "execution_count": 66,
   "id": "23dfc5a7",
   "metadata": {},
   "outputs": [
    {
     "data": {
      "text/html": [
       "<div>\n",
       "<style scoped>\n",
       "    .dataframe tbody tr th:only-of-type {\n",
       "        vertical-align: middle;\n",
       "    }\n",
       "\n",
       "    .dataframe tbody tr th {\n",
       "        vertical-align: top;\n",
       "    }\n",
       "\n",
       "    .dataframe thead th {\n",
       "        text-align: right;\n",
       "    }\n",
       "</style>\n",
       "<table border=\"1\" class=\"dataframe\">\n",
       "  <thead>\n",
       "    <tr style=\"text-align: right;\">\n",
       "      <th></th>\n",
       "      <th>Data Venda</th>\n",
       "      <th>Marca</th>\n",
       "      <th>Lucro</th>\n",
       "    </tr>\n",
       "  </thead>\n",
       "  <tbody>\n",
       "    <tr>\n",
       "      <th>0</th>\n",
       "      <td>2008</td>\n",
       "      <td>Adventure Works</td>\n",
       "      <td>306,641.16</td>\n",
       "    </tr>\n",
       "    <tr>\n",
       "      <th>1</th>\n",
       "      <td>2008</td>\n",
       "      <td>Contoso</td>\n",
       "      <td>56,416.00</td>\n",
       "    </tr>\n",
       "    <tr>\n",
       "      <th>2</th>\n",
       "      <td>2008</td>\n",
       "      <td>Fabrikam</td>\n",
       "      <td>1,557,020.55</td>\n",
       "    </tr>\n",
       "    <tr>\n",
       "      <th>3</th>\n",
       "      <td>2009</td>\n",
       "      <td>Adventure Works</td>\n",
       "      <td>405,395.08</td>\n",
       "    </tr>\n",
       "    <tr>\n",
       "      <th>4</th>\n",
       "      <td>2009</td>\n",
       "      <td>Contoso</td>\n",
       "      <td>138,258.95</td>\n",
       "    </tr>\n",
       "    <tr>\n",
       "      <th>5</th>\n",
       "      <td>2009</td>\n",
       "      <td>Fabrikam</td>\n",
       "      <td>1,034,091.35</td>\n",
       "    </tr>\n",
       "  </tbody>\n",
       "</table>\n",
       "</div>"
      ],
      "text/plain": [
       "   Data Venda            Marca                Lucro\n",
       "0        2008  Adventure Works           306,641.16\n",
       "1        2008          Contoso            56,416.00\n",
       "2        2008         Fabrikam         1,557,020.55\n",
       "3        2009  Adventure Works           405,395.08\n",
       "4        2009          Contoso           138,258.95\n",
       "5        2009         Fabrikam         1,034,091.35"
      ]
     },
     "execution_count": 66,
     "metadata": {},
     "output_type": "execute_result"
    }
   ],
   "source": [
    "#Vamos agrupas por ano e marca\n",
    "df.groupby([df[\"Data Venda\"].dt.year, \"Marca\"])[\"Lucro\"].sum().reset_index()"
   ]
  },
  {
   "cell_type": "code",
   "execution_count": 67,
   "id": "e8294dfe",
   "metadata": {},
   "outputs": [],
   "source": [
    "pd.options.display.float_format = '{:20,.2f}'.format"
   ]
  },
  {
   "cell_type": "code",
   "execution_count": 69,
   "id": "c2929a80",
   "metadata": {},
   "outputs": [
    {
     "data": {
      "text/html": [
       "<div>\n",
       "<style scoped>\n",
       "    .dataframe tbody tr th:only-of-type {\n",
       "        vertical-align: middle;\n",
       "    }\n",
       "\n",
       "    .dataframe tbody tr th {\n",
       "        vertical-align: top;\n",
       "    }\n",
       "\n",
       "    .dataframe thead th {\n",
       "        text-align: right;\n",
       "    }\n",
       "</style>\n",
       "<table border=\"1\" class=\"dataframe\">\n",
       "  <thead>\n",
       "    <tr style=\"text-align: right;\">\n",
       "      <th></th>\n",
       "      <th>Data Venda</th>\n",
       "      <th>Marca</th>\n",
       "      <th>Lucro</th>\n",
       "    </tr>\n",
       "  </thead>\n",
       "  <tbody>\n",
       "    <tr>\n",
       "      <th>0</th>\n",
       "      <td>2008</td>\n",
       "      <td>Adventure Works</td>\n",
       "      <td>306,641.16</td>\n",
       "    </tr>\n",
       "    <tr>\n",
       "      <th>1</th>\n",
       "      <td>2008</td>\n",
       "      <td>Contoso</td>\n",
       "      <td>56,416.00</td>\n",
       "    </tr>\n",
       "    <tr>\n",
       "      <th>2</th>\n",
       "      <td>2008</td>\n",
       "      <td>Fabrikam</td>\n",
       "      <td>1,557,020.55</td>\n",
       "    </tr>\n",
       "    <tr>\n",
       "      <th>3</th>\n",
       "      <td>2009</td>\n",
       "      <td>Adventure Works</td>\n",
       "      <td>405,395.08</td>\n",
       "    </tr>\n",
       "    <tr>\n",
       "      <th>4</th>\n",
       "      <td>2009</td>\n",
       "      <td>Contoso</td>\n",
       "      <td>138,258.95</td>\n",
       "    </tr>\n",
       "    <tr>\n",
       "      <th>5</th>\n",
       "      <td>2009</td>\n",
       "      <td>Fabrikam</td>\n",
       "      <td>1,034,091.35</td>\n",
       "    </tr>\n",
       "  </tbody>\n",
       "</table>\n",
       "</div>"
      ],
      "text/plain": [
       "   Data Venda            Marca                Lucro\n",
       "0        2008  Adventure Works           306,641.16\n",
       "1        2008          Contoso            56,416.00\n",
       "2        2008         Fabrikam         1,557,020.55\n",
       "3        2009  Adventure Works           405,395.08\n",
       "4        2009          Contoso           138,258.95\n",
       "5        2009         Fabrikam         1,034,091.35"
      ]
     },
     "execution_count": 69,
     "metadata": {},
     "output_type": "execute_result"
    }
   ],
   "source": [
    "#Resetando o index\n",
    "lucro_ano = df.groupby([df[\"Data Venda\"].dt.year, \"Marca\"])[\"Lucro\"].sum().reset_index()\n",
    "lucro_ano"
   ]
  },
  {
   "cell_type": "code",
   "execution_count": 72,
   "id": "2b35c308",
   "metadata": {},
   "outputs": [
    {
     "data": {
      "text/plain": [
       "Produto\n",
       "Headphone Adapter for Contoso Phone E130 Silver    25232\n",
       "Headphone Adapter for Contoso Phone E130 White     25008\n",
       "Adventure Works Laptop15.4W M1548 Black             1089\n",
       "Fabrikam Trendsetter 2/3'' 17mm X100 Grey           1087\n",
       "Adventure Works Laptop15.4W M1548 Red               1047\n",
       "Fabrikam Trendsetter 2/3'' 17mm X100 Black           926\n",
       "Fabrikam Trendsetter 1/3'' 8.5mm X200 Black          884\n",
       "Fabrikam Trendsetter 1/3'' 8.5mm X200 Grey           845\n",
       "Fabrikam Trendsetter 1/3'' 8.5mm X200 White          789\n",
       "Name: Quantidade, dtype: int64"
      ]
     },
     "execution_count": 72,
     "metadata": {},
     "output_type": "execute_result"
    }
   ],
   "source": [
    "#Qual o total de produtos vendidos?\n",
    "df.groupby(\"Produto\")[\"Quantidade\"].sum().sort_values(ascending=False)"
   ]
  },
  {
   "cell_type": "code",
   "execution_count": 74,
   "id": "5fcdc184",
   "metadata": {},
   "outputs": [
    {
     "data": {
      "image/png": "[encoded data removed]",
      "text/plain": [
       "<Figure size 576x396 with 1 Axes>"
      ]
     },
     "metadata": {},
     "output_type": "display_data"
    }
   ],
   "source": [
    "#Gráfico Total de produtos vendidos \n",
    "df.groupby(\"Produto\")[\"Quantidade\"].sum().sort_values(ascending=True).plot.barh(title=\"Total Produtos Vendidos\")\n",
    "plt.xlabel(\"Total\")\n",
    "plt.ylabel(\"Produtos\");"
   ]
  },
  {
   "cell_type": "code",
   "execution_count": 76,
   "id": "b368fe7a",
   "metadata": {},
   "outputs": [
    {
     "data": {
      "image/png": "[encoded data removed]",
      "text/plain": [
       "<Figure size 576x396 with 1 Axes>"
      ]
     },
     "metadata": {},
     "output_type": "display_data"
    }
   ],
   "source": [
    "df.groupby(df[\"Data Venda\"].dt.year)[\"Lucro\"].sum().plot.bar(title=\"Lucro x Ano\")\n",
    "plt.xlabel(\"Ano\")\n",
    "plt.ylabel(\"Receita\");"
   ]
  },
  {
   "cell_type": "code",
   "execution_count": 78,
   "id": "ceb3649a",
   "metadata": {},
   "outputs": [
    {
     "data": {
      "text/plain": [
       "Data Venda\n",
       "2008           1,920,077.71\n",
       "2009           1,577,745.38\n",
       "Name: Lucro, dtype: float64"
      ]
     },
     "execution_count": 78,
     "metadata": {},
     "output_type": "execute_result"
    }
   ],
   "source": [
    "df.groupby(df[\"Data Venda\"].dt.year)[\"Lucro\"].sum()"
   ]
  },
  {
   "cell_type": "code",
   "execution_count": 82,
   "id": "63b666f7",
   "metadata": {},
   "outputs": [
    {
     "data": {
      "text/html": [
       "<div>\n",
       "<style scoped>\n",
       "    .dataframe tbody tr th:only-of-type {\n",
       "        vertical-align: middle;\n",
       "    }\n",
       "\n",
       "    .dataframe tbody tr th {\n",
       "        vertical-align: top;\n",
       "    }\n",
       "\n",
       "    .dataframe thead th {\n",
       "        text-align: right;\n",
       "    }\n",
       "</style>\n",
       "<table border=\"1\" class=\"dataframe\">\n",
       "  <thead>\n",
       "    <tr style=\"text-align: right;\">\n",
       "      <th></th>\n",
       "      <th>Data Venda</th>\n",
       "      <th>Data Envio</th>\n",
       "      <th>ID Loja</th>\n",
       "      <th>ID Produto</th>\n",
       "      <th>ID Cliente</th>\n",
       "      <th>No. Venda</th>\n",
       "      <th>Custo Unitário</th>\n",
       "      <th>Preço Unitário</th>\n",
       "      <th>Quantidade</th>\n",
       "      <th>Valor Desconto</th>\n",
       "      <th>Valor Venda</th>\n",
       "      <th>Produto</th>\n",
       "      <th>Fabricante</th>\n",
       "      <th>Marca</th>\n",
       "      <th>Classe</th>\n",
       "      <th>Cor</th>\n",
       "      <th>custo</th>\n",
       "      <th>Lucro</th>\n",
       "      <th>Tempo_envio</th>\n",
       "    </tr>\n",
       "  </thead>\n",
       "  <tbody>\n",
       "    <tr>\n",
       "      <th>11</th>\n",
       "      <td>2009-05-02</td>\n",
       "      <td>2009-05-14</td>\n",
       "      <td>199</td>\n",
       "      <td>384</td>\n",
       "      <td>18938</td>\n",
       "      <td>200905023CS847</td>\n",
       "      <td>348.58</td>\n",
       "      <td>758.00</td>\n",
       "      <td>6</td>\n",
       "      <td>0.00</td>\n",
       "      <td>4,548.00</td>\n",
       "      <td>Adventure Works Laptop15.4W M1548 Red</td>\n",
       "      <td>Adventure Works</td>\n",
       "      <td>Adventure Works</td>\n",
       "      <td>Regular</td>\n",
       "      <td>Red</td>\n",
       "      <td>2,091.48</td>\n",
       "      <td>2,456.52</td>\n",
       "      <td>12</td>\n",
       "    </tr>\n",
       "    <tr>\n",
       "      <th>12</th>\n",
       "      <td>2009-05-16</td>\n",
       "      <td>2009-05-27</td>\n",
       "      <td>306</td>\n",
       "      <td>384</td>\n",
       "      <td>19067</td>\n",
       "      <td>200905163CS746</td>\n",
       "      <td>348.58</td>\n",
       "      <td>758.00</td>\n",
       "      <td>6</td>\n",
       "      <td>0.00</td>\n",
       "      <td>4,548.00</td>\n",
       "      <td>Adventure Works Laptop15.4W M1548 Red</td>\n",
       "      <td>Adventure Works</td>\n",
       "      <td>Adventure Works</td>\n",
       "      <td>Regular</td>\n",
       "      <td>Red</td>\n",
       "      <td>2,091.48</td>\n",
       "      <td>2,456.52</td>\n",
       "      <td>11</td>\n",
       "    </tr>\n",
       "    <tr>\n",
       "      <th>13</th>\n",
       "      <td>2009-05-31</td>\n",
       "      <td>2009-06-12</td>\n",
       "      <td>306</td>\n",
       "      <td>384</td>\n",
       "      <td>19068</td>\n",
       "      <td>200905313CS748</td>\n",
       "      <td>348.58</td>\n",
       "      <td>758.00</td>\n",
       "      <td>6</td>\n",
       "      <td>0.00</td>\n",
       "      <td>4,548.00</td>\n",
       "      <td>Adventure Works Laptop15.4W M1548 Red</td>\n",
       "      <td>Adventure Works</td>\n",
       "      <td>Adventure Works</td>\n",
       "      <td>Regular</td>\n",
       "      <td>Red</td>\n",
       "      <td>2,091.48</td>\n",
       "      <td>2,456.52</td>\n",
       "      <td>12</td>\n",
       "    </tr>\n",
       "    <tr>\n",
       "      <th>14</th>\n",
       "      <td>2009-06-28</td>\n",
       "      <td>2009-07-11</td>\n",
       "      <td>199</td>\n",
       "      <td>384</td>\n",
       "      <td>18959</td>\n",
       "      <td>200906283CS870</td>\n",
       "      <td>348.58</td>\n",
       "      <td>758.00</td>\n",
       "      <td>6</td>\n",
       "      <td>0.00</td>\n",
       "      <td>4,548.00</td>\n",
       "      <td>Adventure Works Laptop15.4W M1548 Red</td>\n",
       "      <td>Adventure Works</td>\n",
       "      <td>Adventure Works</td>\n",
       "      <td>Regular</td>\n",
       "      <td>Red</td>\n",
       "      <td>2,091.48</td>\n",
       "      <td>2,456.52</td>\n",
       "      <td>13</td>\n",
       "    </tr>\n",
       "    <tr>\n",
       "      <th>15</th>\n",
       "      <td>2009-07-08</td>\n",
       "      <td>2009-07-12</td>\n",
       "      <td>306</td>\n",
       "      <td>384</td>\n",
       "      <td>19070</td>\n",
       "      <td>200907083CS757</td>\n",
       "      <td>348.58</td>\n",
       "      <td>758.00</td>\n",
       "      <td>6</td>\n",
       "      <td>0.00</td>\n",
       "      <td>4,548.00</td>\n",
       "      <td>Adventure Works Laptop15.4W M1548 Red</td>\n",
       "      <td>Adventure Works</td>\n",
       "      <td>Adventure Works</td>\n",
       "      <td>Regular</td>\n",
       "      <td>Red</td>\n",
       "      <td>2,091.48</td>\n",
       "      <td>2,456.52</td>\n",
       "      <td>4</td>\n",
       "    </tr>\n",
       "  </tbody>\n",
       "</table>\n",
       "</div>"
      ],
      "text/plain": [
       "   Data Venda Data Envio  ID Loja  ID Produto  ID Cliente       No. Venda  \\\n",
       "11 2009-05-02 2009-05-14      199         384       18938  200905023CS847   \n",
       "12 2009-05-16 2009-05-27      306         384       19067  200905163CS746   \n",
       "13 2009-05-31 2009-06-12      306         384       19068  200905313CS748   \n",
       "14 2009-06-28 2009-07-11      199         384       18959  200906283CS870   \n",
       "15 2009-07-08 2009-07-12      306         384       19070  200907083CS757   \n",
       "\n",
       "         Custo Unitário       Preço Unitário  Quantidade       Valor Desconto  \\\n",
       "11               348.58               758.00           6                 0.00   \n",
       "12               348.58               758.00           6                 0.00   \n",
       "13               348.58               758.00           6                 0.00   \n",
       "14               348.58               758.00           6                 0.00   \n",
       "15               348.58               758.00           6                 0.00   \n",
       "\n",
       "            Valor Venda                                Produto  \\\n",
       "11             4,548.00  Adventure Works Laptop15.4W M1548 Red   \n",
       "12             4,548.00  Adventure Works Laptop15.4W M1548 Red   \n",
       "13             4,548.00  Adventure Works Laptop15.4W M1548 Red   \n",
       "14             4,548.00  Adventure Works Laptop15.4W M1548 Red   \n",
       "15             4,548.00  Adventure Works Laptop15.4W M1548 Red   \n",
       "\n",
       "         Fabricante            Marca   Classe  Cor                custo  \\\n",
       "11  Adventure Works  Adventure Works  Regular  Red             2,091.48   \n",
       "12  Adventure Works  Adventure Works  Regular  Red             2,091.48   \n",
       "13  Adventure Works  Adventure Works  Regular  Red             2,091.48   \n",
       "14  Adventure Works  Adventure Works  Regular  Red             2,091.48   \n",
       "15  Adventure Works  Adventure Works  Regular  Red             2,091.48   \n",
       "\n",
       "                  Lucro  Tempo_envio  \n",
       "11             2,456.52           12  \n",
       "12             2,456.52           11  \n",
       "13             2,456.52           12  \n",
       "14             2,456.52           13  \n",
       "15             2,456.52            4  "
      ]
     },
     "execution_count": 82,
     "metadata": {},
     "output_type": "execute_result"
    }
   ],
   "source": [
    "#Selecionando apenas as vendas de 2009\n",
    "df_2009 = df[df[\"Data Venda\"].dt.year == 2009]\n",
    "df_2009.head()"
   ]
  },
  {
   "cell_type": "code",
   "execution_count": 87,
   "id": "6a9755cc",
   "metadata": {},
   "outputs": [
    {
     "data": {
      "image/png": "[encoded data removed]",
      "text/plain": [
       "<Figure size 576x396 with 1 Axes>"
      ]
     },
     "metadata": {},
     "output_type": "display_data"
    }
   ],
   "source": [
    "#Lucro por mês\n",
    "df_2009.groupby(df_2009[\"Data Venda\"].dt.month)[\"Lucro\"].sum().plot(title=\"Lucro x Mês\")\n",
    "plt.xlabel(\"Mês\")\n",
    "plt.ylabel(\"Lucro\");"
   ]
  },
  {
   "cell_type": "code",
   "execution_count": 91,
   "id": "5fa01e0b",
   "metadata": {},
   "outputs": [
    {
     "data": {
      "image/png": "[encoded data removed]",
      "text/plain": [
       "<Figure size 576x396 with 1 Axes>"
      ]
     },
     "metadata": {},
     "output_type": "display_data"
    }
   ],
   "source": [
    "#Luro por Marca\n",
    "df_2009.groupby(\"Marca\")[\"Lucro\"].sum().plot.bar(title=\"Lucro x Marca\")\n",
    "plt.xlabel(\"Marca\")\n",
    "plt.ylabel(\"Lucro\")\n",
    "plt.xticks(rotation='horizontal');"
   ]
  },
  {
   "cell_type": "code",
   "execution_count": 93,
   "id": "e535a57a",
   "metadata": {},
   "outputs": [
    {
     "data": {
      "image/png": "[encoded data removed]",
      "text/plain": [
       "<Figure size 576x396 with 1 Axes>"
      ]
     },
     "metadata": {},
     "output_type": "display_data"
    }
   ],
   "source": [
    "#Lucro por Classe\n",
    "df_2009.groupby(\"Classe\")[\"Lucro\"].sum().plot.bar(title=\"Lucro x Classe\")\n",
    "plt.xlabel(\"Classe\")\n",
    "plt.ylabel(\"Lucro\")\n",
    "plt.xticks(rotation='horizontal');"
   ]
  },
  {
   "cell_type": "code",
   "execution_count": 98,
   "id": "d3ae7289",
   "metadata": {},
   "outputs": [
    {
     "data": {
      "text/plain": [
       "count                 904.00\n",
       "mean                    8.54\n",
       "std                     3.06\n",
       "min                     4.00\n",
       "25%                     6.00\n",
       "50%                     9.00\n",
       "75%                    11.00\n",
       "max                    20.00\n",
       "Name: Tempo_envio, dtype: float64"
      ]
     },
     "execution_count": 98,
     "metadata": {},
     "output_type": "execute_result"
    }
   ],
   "source": [
    "df[\"Tempo_envio\"].describe()"
   ]
  },
  {
   "cell_type": "code",
   "execution_count": 100,
   "id": "be74568d",
   "metadata": {},
   "outputs": [
    {
     "data": {
      "image/png": "[encoded data removed]",
      "text/plain": [
       "<Figure size 576x396 with 1 Axes>"
      ]
     },
     "metadata": {},
     "output_type": "display_data"
    }
   ],
   "source": [
    "#Gráfico de Boxplot\n",
    "plt.boxplot(df[\"Tempo_envio\"]);"
   ]
  },
  {
   "cell_type": "code",
   "execution_count": 102,
   "id": "2795f6b3",
   "metadata": {},
   "outputs": [
    {
     "data": {
      "image/png": "[encoded data removed]",
      "text/plain": [
       "<Figure size 576x396 with 1 Axes>"
      ]
     },
     "metadata": {},
     "output_type": "display_data"
    }
   ],
   "source": [
    "#Histograma\n",
    "plt.hist(df[\"Tempo_envio\"]);"
   ]
  },
  {
   "cell_type": "code",
   "execution_count": 104,
   "id": "1c2bdb35",
   "metadata": {},
   "outputs": [
    {
     "data": {
      "text/plain": [
       "4"
      ]
     },
     "execution_count": 104,
     "metadata": {},
     "output_type": "execute_result"
    }
   ],
   "source": [
    "#Tempo mínimo de envio\n",
    "df[\"Tempo_envio\"].min()"
   ]
  },
  {
   "cell_type": "code",
   "execution_count": 106,
   "id": "fe3b51c5",
   "metadata": {},
   "outputs": [
    {
     "data": {
      "text/plain": [
       "20"
      ]
     },
     "execution_count": 106,
     "metadata": {},
     "output_type": "execute_result"
    }
   ],
   "source": [
    "#Tempo máximo de envio\n",
    "df[\"Tempo_envio\"].max()"
   ]
  },
  {
   "cell_type": "code",
   "execution_count": 108,
   "id": "a96e13f6",
   "metadata": {},
   "outputs": [
    {
     "data": {
      "text/html": [
       "<div>\n",
       "<style scoped>\n",
       "    .dataframe tbody tr th:only-of-type {\n",
       "        vertical-align: middle;\n",
       "    }\n",
       "\n",
       "    .dataframe tbody tr th {\n",
       "        vertical-align: top;\n",
       "    }\n",
       "\n",
       "    .dataframe thead th {\n",
       "        text-align: right;\n",
       "    }\n",
       "</style>\n",
       "<table border=\"1\" class=\"dataframe\">\n",
       "  <thead>\n",
       "    <tr style=\"text-align: right;\">\n",
       "      <th></th>\n",
       "      <th>Data Venda</th>\n",
       "      <th>Data Envio</th>\n",
       "      <th>ID Loja</th>\n",
       "      <th>ID Produto</th>\n",
       "      <th>ID Cliente</th>\n",
       "      <th>No. Venda</th>\n",
       "      <th>Custo Unitário</th>\n",
       "      <th>Preço Unitário</th>\n",
       "      <th>Quantidade</th>\n",
       "      <th>Valor Desconto</th>\n",
       "      <th>Valor Venda</th>\n",
       "      <th>Produto</th>\n",
       "      <th>Fabricante</th>\n",
       "      <th>Marca</th>\n",
       "      <th>Classe</th>\n",
       "      <th>Cor</th>\n",
       "      <th>custo</th>\n",
       "      <th>Lucro</th>\n",
       "      <th>Tempo_envio</th>\n",
       "    </tr>\n",
       "  </thead>\n",
       "  <tbody>\n",
       "    <tr>\n",
       "      <th>0</th>\n",
       "      <td>2008-05-09</td>\n",
       "      <td>2008-05-29</td>\n",
       "      <td>199</td>\n",
       "      <td>384</td>\n",
       "      <td>18839</td>\n",
       "      <td>200805093CS607</td>\n",
       "      <td>348.58</td>\n",
       "      <td>758.00</td>\n",
       "      <td>6</td>\n",
       "      <td>0.00</td>\n",
       "      <td>4,548.00</td>\n",
       "      <td>Adventure Works Laptop15.4W M1548 Red</td>\n",
       "      <td>Adventure Works</td>\n",
       "      <td>Adventure Works</td>\n",
       "      <td>Regular</td>\n",
       "      <td>Red</td>\n",
       "      <td>2,091.48</td>\n",
       "      <td>2,456.52</td>\n",
       "      <td>20</td>\n",
       "    </tr>\n",
       "  </tbody>\n",
       "</table>\n",
       "</div>"
      ],
      "text/plain": [
       "  Data Venda Data Envio  ID Loja  ID Produto  ID Cliente       No. Venda  \\\n",
       "0 2008-05-09 2008-05-29      199         384       18839  200805093CS607   \n",
       "\n",
       "        Custo Unitário       Preço Unitário  Quantidade       Valor Desconto  \\\n",
       "0               348.58               758.00           6                 0.00   \n",
       "\n",
       "           Valor Venda                                Produto  \\\n",
       "0             4,548.00  Adventure Works Laptop15.4W M1548 Red   \n",
       "\n",
       "        Fabricante            Marca   Classe  Cor                custo  \\\n",
       "0  Adventure Works  Adventure Works  Regular  Red             2,091.48   \n",
       "\n",
       "                 Lucro  Tempo_envio  \n",
       "0             2,456.52           20  "
      ]
     },
     "execution_count": 108,
     "metadata": {},
     "output_type": "execute_result"
    }
   ],
   "source": [
    "#Identificando o Outlier\n",
    "df[df[\"Tempo_envio\"] == 20]"
   ]
  },
  {
   "cell_type": "code",
   "execution_count": 109,
   "id": "e5eddc35",
   "metadata": {},
   "outputs": [],
   "source": [
    "df.to_csv(\"df_vendas_novo.csv\", index=False)"
   ]
  }
 ],
 "metadata": {
  "kernelspec": {
   "display_name": "Python 3",
   "language": "python",
   "name": "python3"
  },
  "language_info": {
   "codemirror_mode": {
    "name": "ipython",
    "version": 3
   },
   "file_extension": ".py",
   "mimetype": "text/x-python",
   "name": "python",
   "nbconvert_exporter": "python",
   "pygments_lexer": "ipython3",
   "version": "3.6.8"
  }
 },
 "nbformat": 4,
 "nbformat_minor": 5
}
